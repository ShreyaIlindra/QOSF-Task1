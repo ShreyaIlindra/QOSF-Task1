{
 "cells": [
  {
   "cell_type": "code",
   "execution_count": 17,
   "metadata": {},
   "outputs": [],
   "source": [
    "from qiskit import *\n",
    "import numpy as np"
   ]
  },
  {
   "cell_type": "code",
   "execution_count": 18,
   "metadata": {},
   "outputs": [],
   "source": [
    "def odd_block(circuit, params) :\n",
    "    for qubit in range(len(params)) :\n",
    "             circuit.rx(params[qubit], qubit)\n",
    "        \n",
    "    return circuit"
   ]
  },
  {
   "cell_type": "code",
   "execution_count": 19,
   "metadata": {},
   "outputs": [],
   "source": [
    "def even_block(circuit, params) :\n",
    "    l = len(params)\n",
    "    \n",
    "    for qubit in range(l) :\n",
    "        circuit.rz(params[qubit], qubit)\n",
    "        \n",
    "    for i in range(l - 1):\n",
    "        for j in range(i + 1, l):\n",
    "            circuit.cz(i, j)\n",
    "            \n",
    "    return circuit"
   ]
  },
  {
   "cell_type": "code",
   "execution_count": 20,
   "metadata": {},
   "outputs": [],
   "source": [
    "def circuit(params, n_qubits = 4) :\n",
    "    qc = QuantumCircuit(n_qubits)\n",
    "    \n",
    "    for block in range(0, len(params), 2) :\n",
    "        qc = even_block(odd_block(qc, params[block]), params[block + 1])\n",
    "        qc.barrier()\n",
    "        \n",
    "    return qc"
   ]
  },
  {
   "cell_type": "code",
   "execution_count": 21,
   "metadata": {},
   "outputs": [],
   "source": [
    "def initialize_params(L, n_qubits = 4) :\n",
    "    return 2*np.pi*np.random.random_sample((2 * L, n_qubits))"
   ]
  },
  {
   "cell_type": "code",
   "execution_count": 22,
   "metadata": {},
   "outputs": [],
   "source": [
    "def get_statevector(circuit) :\n",
    "    backend = Aer.get_backend('statevector_simulator')\n",
    "    return execute(circuit, backend).result().get_statevector()"
   ]
  },
  {
   "cell_type": "code",
   "execution_count": 23,
   "metadata": {},
   "outputs": [],
   "source": [
    "def random_state(n_qubits = 4):\n",
    "    return quantum_info.random_statevector(2 ** n_qubits, seed = None).data"
   ]
  },
  {
   "cell_type": "code",
   "execution_count": 24,
   "metadata": {},
   "outputs": [],
   "source": [
    "def epsilon(psi, phi) :\n",
    "    difference = psi - phi\n",
    "    return sum(difference.real ** 2 + difference.imag ** 2)"
   ]
  },
  {
   "cell_type": "code",
   "execution_count": 25,
   "metadata": {},
   "outputs": [],
   "source": [
    "def update_params(current_params, phi, learning_rate, delta) :\n",
    "    derivatives = np.zeros(current_params.shape)\n",
    "    for i in range(current_params.shape[0]) :\n",
    "        for j in range(current_params.shape[1]) :\n",
    "            current_params[i][j] += delta\n",
    "            plus_delta = get_statevector(circuit(current_params))\n",
    "            \n",
    "            current_params[i][j] -= 2 * delta\n",
    "            minus_delta = get_statevector(circuit(current_params))\n",
    "            \n",
    "            current_params[i][j] += delta\n",
    "            derivatives[i][j] = (epsilon(plus_delta, phi) - epsilon(minus_delta, phi)) / (2 * delta)\n",
    "    current_params -= learning_rate * derivatives\n",
    "    \n",
    "    return current_params"
   ]
  },
  {
   "cell_type": "code",
   "execution_count": 26,
   "metadata": {},
   "outputs": [],
   "source": [
    "def gradient_descent(phi, L, learning_rate = 0.1, delta = 0.05, iterations = 500):\n",
    "    current_params = initialize_params(L)\n",
    "    X = []\n",
    "    Y = []\n",
    "    \n",
    "    for i in range(iterations) :\n",
    "        current_params = update_params(current_params, phi, learning_rate, delta)\n",
    "        if i % (iterations // 10) == 0:\n",
    "            X.append(i)\n",
    "            state = get_statevector(circuit(current_params))\n",
    "            Y.append(epsilon(state, phi))\n",
    "            \n",
    "    return current_params, epsilon(get_statevector(circuit(current_params)), phi), X, Y"
   ]
  },
  {
   "cell_type": "code",
   "execution_count": 27,
   "metadata": {},
   "outputs": [],
   "source": [
    "import matplotlib\n",
    "import matplotlib.pyplot as plt\n",
    "%matplotlib inline"
   ]
  },
  {
   "cell_type": "code",
   "execution_count": 45,
   "metadata": {},
   "outputs": [
    {
     "name": "stdout",
     "output_type": "stream",
     "text": [
      "The minimum distance for 1 layers : 0.5879486203887534\n",
      "The minimum distance for 2 layers : 0.5896624979861912\n",
      "The minimum distance for 3 layers : 0.05533765026710083\n",
      "The minimum distance for 4 layers : 0.026541312884487522\n",
      "The minimum distance for 5 layers : 0.010643789658071875\n",
      "The minimum distance for 6 layers : 0.006065583160273607\n",
      "The minimum distance for 7 layers : 0.004099246963452502\n",
      "The minimum distance for 8 layers : 8.451221122778736e-05\n",
      "The minimum distance for 9 layers : 3.2429773790715785e-05\n",
      "The minimum distance for 10 layers : 6.410872353589588e-06\n",
      "The minimum distance for 11 layers : 2.1500494060391584e-06\n",
      "The minimum distance for 12 layers : 1.1880783965309031e-07\n",
      "The minimum distance for 13 layers : 4.500844650153858e-08\n",
      "The minimum distance for 14 layers : 3.209043619099076e-08\n"
     ]
    },
    {
     "data": {
      "image/png": "[encoded data removed]",
      "text/plain": [
       "<Figure size 432x288 with 1 Axes>"
      ]
     },
     "metadata": {
      "needs_background": "light"
     },
     "output_type": "display_data"
    }
   ],
   "source": [
    "phi = (random_state(4))\n",
    "layers, min_distances = range(1, 15), []\n",
    "for L in range(1, 15) :\n",
    "    alpha = 0.05 if L > 5 else (0.4 if L < 3 else 0.1) \n",
    "    params, eps, X, Y = gradient_descent(phi, L, learning_rate = alpha, delta = 0.05, iterations = 500)\n",
    "    min_distances.append(eps)\n",
    "    print(f\"The minimum distance for {L} layers : {eps}\")\n",
    "plt.plot(layers, min_distances)\n",
    "plt.show()"
   ]
  },
  {
   "cell_type": "markdown",
   "metadata": {},
   "source": [
    "The parameters of the circuit for minimizing the distance are calculated by the method of Gradient Descent. It involves calculation of partial derivatives with respect to each parameter. Here these partial derivatives are calculated by approxmation. Therefore, the algorithm requires 3 hyperparameters - learning rate, number of iterations and delta.\n",
    "The above plot is for number of layers in the range of 1 - 15 and the hyperparameters were chosen accordingly(learning_rate = 0.05, number of iterations = 500, delta = 0.05) for giving the best results.\n",
    "\n",
    "For the plot we can infer that as number of layers increases (i.e. as number of parameters that needs to be tuned increases), the minimum distance decreases. This means the gradient descent is giving better results for higher number of parameters."
   ]
  }
 ],
 "metadata": {
  "kernelspec": {
   "display_name": "Python 3",
   "language": "python",
   "name": "python3"
  },
  "language_info": {
   "codemirror_mode": {
    "name": "ipython",
    "version": 3
   },
   "file_extension": ".py",
   "mimetype": "text/x-python",
   "name": "python",
   "nbconvert_exporter": "python",
   "pygments_lexer": "ipython3",
   "version": "3.8.3"
  }
 },
 "nbformat": 4,
 "nbformat_minor": 4
}
